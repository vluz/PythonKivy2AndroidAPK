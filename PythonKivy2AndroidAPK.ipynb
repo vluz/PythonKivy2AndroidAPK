{
 "cells": [
  {
   "cell_type": "markdown",
   "metadata": {
    "id": "YTDYEa6egvxZ"
   },
   "source": [
    "# Python Kivy app to Android APK notebook"
   ]
  },
  {
   "cell_type": "code",
   "execution_count": null,
   "metadata": {
    "colab": {
     "base_uri": "https://localhost:8080/"
    },
    "id": "Yzg0jnV7dHTp",
    "outputId": "aa62f456-d785-4f84-9234-60796dbb1ccf"
   },
   "outputs": [],
   "source": [
    "!pip install buildozer"
   ]
  },
  {
   "cell_type": "code",
   "execution_count": null,
   "metadata": {
    "colab": {
     "base_uri": "https://localhost:8080/"
    },
    "id": "XX3isEFydNar",
    "outputId": "b3eed6c8-0df4-45da-eba8-cd8cd4586029"
   },
   "outputs": [],
   "source": [
    "!pip install cython kivy"
   ]
  },
  {
   "cell_type": "code",
   "execution_count": null,
   "metadata": {
    "colab": {
     "base_uri": "https://localhost:8080/"
    },
    "id": "QZRYW9UvdcDt",
    "outputId": "59b8de0c-7ff7-4f58-fedc-9643227c44c2"
   },
   "outputs": [],
   "source": [
    "!sudo apt-get install -y \\\n",
    "    python3-pip \\\n",
    "    build-essential \\\n",
    "    git \\\n",
    "    python3 \\\n",
    "    python3-dev \\\n",
    "    ffmpeg \\\n",
    "    libsdl2-dev \\\n",
    "    libsdl2-image-dev \\\n",
    "    libsdl2-mixer-dev \\\n",
    "    libsdl2-ttf-dev \\\n",
    "    libportmidi-dev \\\n",
    "    libswscale-dev \\\n",
    "    libavformat-dev \\\n",
    "    libavcodec-dev \\\n",
    "    zlib1g-dev"
   ]
  },
  {
   "cell_type": "code",
   "execution_count": null,
   "metadata": {
    "colab": {
     "base_uri": "https://localhost:8080/"
    },
    "id": "S9Z7KfTOnXuZ",
    "outputId": "50a46b0f-9eca-4550-b45b-d9029ad5384a"
   },
   "outputs": [],
   "source": [
    "!sudo apt-get install -y \\\n",
    "    libgstreamer1.0 \\\n",
    "    gstreamer1.0-plugins-base \\\n",
    "    gstreamer1.0-plugins-good"
   ]
  },
  {
   "cell_type": "code",
   "execution_count": null,
   "metadata": {
    "colab": {
     "base_uri": "https://localhost:8080/"
    },
    "id": "Gjp7v6bTnd5V",
    "outputId": "0929ccce-8cb0-4d6b-c113-3cbdb1ef04ee"
   },
   "outputs": [],
   "source": [
    "!sudo apt-get install build-essential libsqlite3-dev sqlite3 bzip2 libbz2-dev zlib1g-dev libssl-dev openssl libgdbm-dev libgdbm-compat-dev liblzma-dev libreadline-dev libncursesw5-dev libffi-dev uuid-dev libffi6"
   ]
  },
  {
   "cell_type": "code",
   "execution_count": null,
   "metadata": {
    "colab": {
     "base_uri": "https://localhost:8080/"
    },
    "id": "DA3BNyuKnrI1",
    "outputId": "00145ca4-6d7c-41d4-9a7b-7e2e28536881"
   },
   "outputs": [],
   "source": [
    "!sudo apt-get install libffi-dev"
   ]
  },
  {
   "cell_type": "markdown",
   "metadata": {},
   "source": [
    "## Copy your main.py to the folder"
   ]
  },
  {
   "cell_type": "code",
   "execution_count": null,
   "metadata": {
    "colab": {
     "base_uri": "https://localhost:8080/"
    },
    "id": "EeTysn9dntOO",
    "outputId": "01ec7067-794b-4814-8672-0d2507680f29"
   },
   "outputs": [],
   "source": [
    "!buildozer init"
   ]
  },
  {
   "cell_type": "markdown",
   "metadata": {},
   "source": [
    "## Edit /content/buildozer.spec and set variables"
   ]
  },
  {
   "cell_type": "code",
   "execution_count": null,
   "metadata": {
    "colab": {
     "base_uri": "https://localhost:8080/"
    },
    "id": "tLbircO10N0a",
    "outputId": "105f1ff4-ffc8-484d-a6e1-93e25b54f047"
   },
   "outputs": [],
   "source": [
    "!buildozer -v android debug"
   ]
  },
  {
   "cell_type": "code",
   "execution_count": null,
   "metadata": {
    "id": "YZPSi3j4oweu"
   },
   "outputs": [],
   "source": [
    "!buildozer android clean"
   ]
  },
  {
   "cell_type": "markdown",
   "metadata": {
    "id": "wyVLXEgJFeqv"
   },
   "source": [
    "## All done"
   ]
  }
 ],
 "metadata": {
  "colab": {
   "name": "KivyApp to APK.ipynb",
   "provenance": []
  },
  "kernelspec": {
   "display_name": "Python 3 (ipykernel)",
   "language": "python",
   "name": "python3"
  }
 },
 "nbformat": 4,
 "nbformat_minor": 1
}
